{
 "cells": [
  {
   "cell_type": "markdown",
   "metadata": {},
   "source": [
    "### Opening a restaurant in Boston\n",
    "\n",
    "Boston is populous city and shares number of traditions and cultures including famous sport teams. Many colleges and universities are located in Boston and sounding areas which brings a large number of students to live in and around Boston from across US and international. Boston has about 23 neighborhoods and attracts high number of student due to quite few prestige universities/colleges in the area. The restaurants that are correctly located in the area serve’s students, office professionals, local residents and etc... There are a good bulk of high-end setting restaurant that are open for dinner only. Others just serve lunch mostly for office workers which provide fast paced service. \n",
    "\n",
    "### Problem description:\n",
    "\n",
    "Since there are several large universities in some neighborhoods, \n",
    "We need to analyze the current number of restaurants in the area,\n",
    "What type of food current restaurants serve in downtown Boston or surrounding areas?\n",
    "Finding a location with fewer ethnic restaurant?\n",
    "\n",
    "\n",
    "### Target:\n",
    "\n",
    "Which category of population will the restaurant target, will it serve mostly students, office professionals, a specific social class population?\n",
    "Exploring most or all the criteria’s above and finding the best location to build a must wanted restaurant in the area.\n"
   ]
  },
  {
   "cell_type": "code",
   "execution_count": null,
   "metadata": {},
   "outputs": [],
   "source": []
  }
 ],
 "metadata": {
  "kernelspec": {
   "display_name": "Python 3",
   "language": "python",
   "name": "python3"
  },
  "language_info": {
   "codemirror_mode": {
    "name": "ipython",
    "version": 3
   },
   "file_extension": ".py",
   "mimetype": "text/x-python",
   "name": "python",
   "nbconvert_exporter": "python",
   "pygments_lexer": "ipython3",
   "version": "3.6.5"
  }
 },
 "nbformat": 4,
 "nbformat_minor": 2
}
